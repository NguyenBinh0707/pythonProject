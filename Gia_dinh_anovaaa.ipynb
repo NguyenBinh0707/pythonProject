{
  "cells": [
    {
      "cell_type": "markdown",
      "metadata": {
        "id": "view-in-github",
        "colab_type": "text"
      },
      "source": [
        "<a href=\"https://colab.research.google.com/github/NguyenBinh0707/pythonProject/blob/master/Gia_dinh_anovaaa.ipynb\" target=\"_parent\"><img src=\"https://colab.research.google.com/assets/colab-badge.svg\" alt=\"Open In Colab\"/></a>"
      ]
    },
    {
      "cell_type": "markdown",
      "metadata": {
        "id": "CNNeOwywmlHm"
      },
      "source": [
        "PHÂN TÍCH ANOVA MỘT CHIỀU\n",
        "\n",
        "Phân tích ANOVA chấp nhận các giả định sau:\n",
        "\n",
        "(1) Tất cả các nhóm đều độc lập với nhau\n",
        "\n",
        "(2) Dữ liệu của mỗi nhóm đều tuân theo phân phối chuẩn. Tính chất này có thể được kiểm định bằng phương pháp Shapiro-Wilks.\n",
        "\n",
        "(3) Phương sai (variance) của các nhóm bằng nhau. Tính chất này có thể được kiểm định bằng phương pháp kiểm định Bartlett hay Levene.\n",
        "\n",
        "Nếu dữ liệu hiện có thỏa mãn các tính chất trên thì chúng ta mới tiến hành kiểm định ANOVA. Do vậy trước khi tiến hành kiểm định ANOVA, chúng ta cần thực hiện kiểm tra tập dữ liệu cần thỏa mãn 3 tính chất trên.\n",
        "    "
      ]
    },
    {
      "cell_type": "code",
      "source": [
        "!pip install pingouin"
      ],
      "metadata": {
        "colab": {
          "base_uri": "https://localhost:8080/"
        },
        "id": "UD-bP3GofYZc",
        "outputId": "eb3523a6-79bf-4a81-cf8b-79743b45e282"
      },
      "execution_count": 11,
      "outputs": [
        {
          "output_type": "stream",
          "name": "stdout",
          "text": [
            "Requirement already satisfied: pingouin in /usr/local/lib/python3.7/dist-packages (0.5.1)\n",
            "Requirement already satisfied: outdated in /usr/local/lib/python3.7/dist-packages (from pingouin) (0.2.1)\n",
            "Requirement already satisfied: tabulate in /usr/local/lib/python3.7/dist-packages (from pingouin) (0.8.9)\n",
            "Requirement already satisfied: statsmodels>=0.13 in /usr/local/lib/python3.7/dist-packages (from pingouin) (0.13.2)\n",
            "Requirement already satisfied: pandas>=1.0 in /usr/local/lib/python3.7/dist-packages (from pingouin) (1.3.5)\n",
            "Requirement already satisfied: numpy>=1.19 in /usr/local/lib/python3.7/dist-packages (from pingouin) (1.21.6)\n",
            "Requirement already satisfied: matplotlib>=3.0.2 in /usr/local/lib/python3.7/dist-packages (from pingouin) (3.2.2)\n",
            "Requirement already satisfied: scikit-learn in /usr/local/lib/python3.7/dist-packages (from pingouin) (1.0.2)\n",
            "Requirement already satisfied: pandas-flavor>=0.2.0 in /usr/local/lib/python3.7/dist-packages (from pingouin) (0.2.0)\n",
            "Requirement already satisfied: scipy>=1.7 in /usr/local/lib/python3.7/dist-packages (from pingouin) (1.7.3)\n",
            "Requirement already satisfied: seaborn>=0.11 in /usr/local/lib/python3.7/dist-packages (from pingouin) (0.11.2)\n",
            "Requirement already satisfied: kiwisolver>=1.0.1 in /usr/local/lib/python3.7/dist-packages (from matplotlib>=3.0.2->pingouin) (1.4.2)\n",
            "Requirement already satisfied: python-dateutil>=2.1 in /usr/local/lib/python3.7/dist-packages (from matplotlib>=3.0.2->pingouin) (2.8.2)\n",
            "Requirement already satisfied: pyparsing!=2.0.4,!=2.1.2,!=2.1.6,>=2.0.1 in /usr/local/lib/python3.7/dist-packages (from matplotlib>=3.0.2->pingouin) (3.0.8)\n",
            "Requirement already satisfied: cycler>=0.10 in /usr/local/lib/python3.7/dist-packages (from matplotlib>=3.0.2->pingouin) (0.11.0)\n",
            "Requirement already satisfied: typing-extensions in /usr/local/lib/python3.7/dist-packages (from kiwisolver>=1.0.1->matplotlib>=3.0.2->pingouin) (4.1.1)\n",
            "Requirement already satisfied: pytz>=2017.3 in /usr/local/lib/python3.7/dist-packages (from pandas>=1.0->pingouin) (2022.1)\n",
            "Requirement already satisfied: xarray in /usr/local/lib/python3.7/dist-packages (from pandas-flavor>=0.2.0->pingouin) (0.18.2)\n",
            "Requirement already satisfied: six>=1.5 in /usr/local/lib/python3.7/dist-packages (from python-dateutil>=2.1->matplotlib>=3.0.2->pingouin) (1.15.0)\n",
            "Requirement already satisfied: patsy>=0.5.2 in /usr/local/lib/python3.7/dist-packages (from statsmodels>=0.13->pingouin) (0.5.2)\n",
            "Requirement already satisfied: packaging>=21.3 in /usr/local/lib/python3.7/dist-packages (from statsmodels>=0.13->pingouin) (21.3)\n",
            "Requirement already satisfied: littleutils in /usr/local/lib/python3.7/dist-packages (from outdated->pingouin) (0.2.2)\n",
            "Requirement already satisfied: requests in /usr/local/lib/python3.7/dist-packages (from outdated->pingouin) (2.23.0)\n",
            "Requirement already satisfied: certifi>=2017.4.17 in /usr/local/lib/python3.7/dist-packages (from requests->outdated->pingouin) (2021.10.8)\n",
            "Requirement already satisfied: chardet<4,>=3.0.2 in /usr/local/lib/python3.7/dist-packages (from requests->outdated->pingouin) (3.0.4)\n",
            "Requirement already satisfied: idna<3,>=2.5 in /usr/local/lib/python3.7/dist-packages (from requests->outdated->pingouin) (2.10)\n",
            "Requirement already satisfied: urllib3!=1.25.0,!=1.25.1,<1.26,>=1.21.1 in /usr/local/lib/python3.7/dist-packages (from requests->outdated->pingouin) (1.24.3)\n",
            "Requirement already satisfied: joblib>=0.11 in /usr/local/lib/python3.7/dist-packages (from scikit-learn->pingouin) (1.1.0)\n",
            "Requirement already satisfied: threadpoolctl>=2.0.0 in /usr/local/lib/python3.7/dist-packages (from scikit-learn->pingouin) (3.1.0)\n",
            "Requirement already satisfied: setuptools>=40.4 in /usr/local/lib/python3.7/dist-packages (from xarray->pandas-flavor>=0.2.0->pingouin) (57.4.0)\n"
          ]
        }
      ]
    },
    {
      "cell_type": "code",
      "source": [
        "import numpy as np\n",
        "import pandas as pd\n",
        "import scipy.stats as ss\n",
        "import pingouin as pg\n"
      ],
      "metadata": {
        "id": "9hogwxpsspXt"
      },
      "execution_count": 39,
      "outputs": []
    },
    {
      "cell_type": "code",
      "execution_count": 36,
      "metadata": {
        "id": "ybxPjjQamlHr",
        "colab": {
          "base_uri": "https://localhost:8080/"
        },
        "outputId": "87797be9-c2d8-4484-9722-5fe23894f447"
      },
      "outputs": [
        {
          "output_type": "execute_result",
          "data": {
            "text/plain": [
              "array([0.43757823, 0.95515214, 0.77851918, 0.33409404, 0.58948212,\n",
              "       0.46602511, 0.06992884, 0.84242655, 0.53931414, 0.56985552,\n",
              "       0.49815164, 0.21776818, 0.26104303, 0.4167886 , 0.01006153,\n",
              "       0.86151707, 0.5284938 , 0.4786242 , 0.91818992, 0.82831483,\n",
              "       0.15653867, 0.26267584, 0.28091969, 0.73574062, 0.13685349,\n",
              "       0.56227408, 0.54618282, 0.52158121, 0.60883578, 0.14984587,\n",
              "       0.40779771, 0.57182816, 0.45333902, 0.31582598, 0.56786922,\n",
              "       0.54089396, 0.15251116, 0.88916497, 0.25383703, 0.60885403,\n",
              "       0.57672431, 0.45088181, 0.30415831, 0.81085191, 0.70009718,\n",
              "       0.02642834, 0.01843732, 0.80247165, 0.14290423, 0.81876047,\n",
              "       0.5634048 , 0.74329146, 0.10495522, 0.89363977, 0.61262671,\n",
              "       0.68836526, 0.6327655 , 0.51993302, 0.14400552, 0.76426223,\n",
              "       0.49531604, 0.63054229, 0.94870026, 0.10326107, 0.39349415,\n",
              "       0.7520388 , 0.36996104, 0.50218748, 0.64877369, 0.59867618,\n",
              "       0.29865873, 0.85631838, 0.83208729, 0.30325652, 0.96391095,\n",
              "       0.16078021, 0.75051742, 0.12817775, 0.62858535, 0.14132661,\n",
              "       0.326358  , 0.00226582, 0.26421917, 0.32276426, 0.567064  ,\n",
              "       0.86678823, 0.33279795, 0.19737638, 0.96603467, 0.98451655,\n",
              "       0.46801908, 0.122265  , 0.58743573, 0.94909239, 0.83905664,\n",
              "       0.19808902, 0.61404838, 0.67862275, 0.93148272, 0.21607386])"
            ]
          },
          "metadata": {},
          "execution_count": 36
        }
      ],
      "source": [
        "sample_1 = np.random.rand(100)\n",
        "sample_1"
      ]
    },
    {
      "cell_type": "code",
      "execution_count": 37,
      "metadata": {
        "id": "HsDEBEk_mlHv",
        "colab": {
          "base_uri": "https://localhost:8080/"
        },
        "outputId": "9018aafb-2cf9-451c-c0cb-afd16037911a"
      },
      "outputs": [
        {
          "output_type": "execute_result",
          "data": {
            "text/plain": [
              "array([ 7,  9,  1,  4,  5,  3,  7,  5,  9,  3,  6,  6,  4,  5,  1,  8,  9,\n",
              "        6,  5,  6,  6,  6,  6,  4,  4,  6,  3,  3,  4,  3,  3,  3,  3,  6,\n",
              "        7,  3,  1,  8,  2,  8,  4,  7,  4,  3,  5,  6,  4,  4,  5,  4,  6,\n",
              "        7,  3,  8,  2,  5,  3,  4,  2,  4, 11,  3,  4,  8,  4,  5,  7,  3,\n",
              "        5,  9,  5,  2,  6,  7,  3,  7,  4,  3,  6,  5,  5,  2,  2,  8,  3,\n",
              "        6,  3,  8,  9,  8,  7, 10,  4,  6,  8,  8,  4,  3,  5,  8])"
            ]
          },
          "metadata": {},
          "execution_count": 37
        }
      ],
      "source": [
        "sample_2 = np.random.poisson(5, size=100)\n",
        "sample_2"
      ]
    },
    {
      "cell_type": "markdown",
      "metadata": {
        "id": "Q2tuMaY1mlHw"
      },
      "source": [
        "Hãy tham khảo các hướng dẫn sau để kiểm định tính chất thứ 2 bằng phương pháp Shapiro-Wilks đối với sample_1 và sample_2\n",
        "\n",
        "(1) [Tài liệu tham khảo scipy](https://docs.scipy.org/doc/scipy/reference/generated/scipy.stats.shapiro.html)\n",
        "\n",
        "(2) [Hướng dẫn cụ thể của statology](https://www.statology.org/shapiro-wilk-test-python/)"
      ]
    },
    {
      "cell_type": "code",
      "execution_count": 41,
      "metadata": {
        "id": "RBUQMDYymlHw",
        "colab": {
          "base_uri": "https://localhost:8080/"
        },
        "outputId": "d094f25e-1806-4718-b980-b228b1cfb559"
      },
      "outputs": [
        {
          "output_type": "stream",
          "name": "stdout",
          "text": [
            "sample_1\n",
            "cant reject H0\n",
            "sample_2\n",
            "cant reject H0\n"
          ]
        }
      ],
      "source": [
        "print(\"sample_1\")\n",
        "sttt,p = ss.shapiro(sample_1)\n",
        "if p <0.05:\n",
        "  print(\"cant reject H0\")\n",
        "else:\n",
        "  print(\"we can reject H0\")\n",
        "print(\"sample_2\")\n",
        "sttt,p = ss.shapiro(sample_2)\n",
        "if p <0.05:\n",
        "  print(\"cant reject H0\")\n",
        "else:\n",
        "  print(\"we can reject H0\")"
      ]
    },
    {
      "cell_type": "markdown",
      "source": [
        "Since the p-value is not less than .05, we fail to reject the null hypothesi"
      ],
      "metadata": {
        "id": "GXQ_sPvMILP0"
      }
    },
    {
      "cell_type": "markdown",
      "metadata": {
        "id": "STqafRwPmlHx"
      },
      "source": [
        "Hãy tham khảo các hướng dẫn sau để kiểm định tính chất thứ 3 bằng kiểm định Bartlett hoặc kiểm định Levene\n",
        "\n",
        "(1) [Hướng dẫn tổng quát](https://www.marsja.se/levenes-bartletts-test-of-equality-homogeneity-of-variance-in-python/)\n",
        "\n",
        "(2) [Hướng dẫn ở stackoverflow](https://stackoverflow.com/questions/36141254/how-to-test-for-homoscedasticity-having-the-same-population-variance-in-python)\n",
        "\n",
        "(3) Sử dụng bài giảng về kiểm định Bartlett và Levene ở buổi trước"
      ]
    },
    {
      "cell_type": "code",
      "execution_count": 16,
      "metadata": {
        "id": "ydBz1n-4mlHx"
      },
      "outputs": [],
      "source": [
        "#Code kiểm định tính đồng nhất về phương sai của các nhóm"
      ]
    },
    {
      "cell_type": "code",
      "execution_count": 42,
      "metadata": {
        "id": "BCN73CDmmlHy",
        "colab": {
          "base_uri": "https://localhost:8080/"
        },
        "outputId": "395e06a4-862f-47ca-c0b3-5ca6bee4709c"
      },
      "outputs": [
        {
          "output_type": "stream",
          "name": "stdout",
          "text": [
            "278.1398837790353 1.9096440891584917e-62\n"
          ]
        }
      ],
      "source": [
        "stat, p = ss.bartlett(sample_1, sample_2)\n",
        "\n",
        "# Get the results:\n",
        "print(stat, p)\n"
      ]
    },
    {
      "cell_type": "code",
      "source": [
        "stat, p = ss.levene(sample_1,sample_2)\n",
        "print(stat, p)\n",
        "if p < 0.05:\n",
        "  print(\"phương sai giữa các lựa chọn của biến định tính ở trên khác nhau\")\n",
        "else:\n",
        "  print(\"phương sai giữa các lựa chọn của biến định tính ở trên không khác nhau\")"
      ],
      "metadata": {
        "colab": {
          "base_uri": "https://localhost:8080/"
        },
        "id": "8sylmk9Af0bh",
        "outputId": "39f171bb-747b-4ec3-d0f7-580a2eb21c62"
      },
      "execution_count": 43,
      "outputs": [
        {
          "output_type": "stream",
          "name": "stdout",
          "text": [
            "159.6861768372922 3.1525677597514977e-27\n",
            "phương sai giữa các lựa chọn của biến định tính ở trên khác nhau\n"
          ]
        }
      ]
    }
  ],
  "metadata": {
    "kernelspec": {
      "display_name": "Python 3",
      "language": "python",
      "name": "python3"
    },
    "language_info": {
      "codemirror_mode": {
        "name": "ipython",
        "version": 3
      },
      "file_extension": ".py",
      "mimetype": "text/x-python",
      "name": "python",
      "nbconvert_exporter": "python",
      "pygments_lexer": "ipython3",
      "version": "3.7.3"
    },
    "colab": {
      "name": "Gia dinh anovaaa.ipynb",
      "provenance": [],
      "collapsed_sections": [],
      "include_colab_link": true
    }
  },
  "nbformat": 4,
  "nbformat_minor": 0
}